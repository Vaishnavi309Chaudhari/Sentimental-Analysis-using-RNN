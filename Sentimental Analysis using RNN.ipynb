{
 "cells": [
  {
   "cell_type": "markdown",
   "id": "e309c37b",
   "metadata": {},
   "source": [
    "## Sentimental Analysis using RNN"
   ]
  },
  {
   "cell_type": "markdown",
   "id": "8457dad5",
   "metadata": {},
   "source": [
    "### Importing necessary Libraries"
   ]
  },
  {
   "cell_type": "code",
   "execution_count": 32,
   "id": "ed8ec627",
   "metadata": {},
   "outputs": [],
   "source": [
    "import pandas as pd\n",
    "import matplotlib.pyplot as plt\n",
    "import numpy as np\n",
    "import tensorflow as tf\n",
    "import re\n",
    "from tensorflow.keras.preprocessing.text import Tokenizer\n",
    "from sklearn.model_selection import train_test_split\n",
    "from sklearn.metrics import accuracy_score,confusion_matrix, precision_score,recall_score\n",
    "import seaborn as sns\n",
    "plt.style.use('ggplot')"
   ]
  },
  {
   "cell_type": "markdown",
   "id": "46c8cc26",
   "metadata": {},
   "source": [
    "### Reading the data"
   ]
  },
  {
   "cell_type": "code",
   "execution_count": 33,
   "id": "f6526dc6",
   "metadata": {},
   "outputs": [],
   "source": [
    "train=pd.read_csv(r\"C:\\Users\\vaish\\Downloads\\DL + AI Exam Paper (1)\\DL + AI Exam Paper\\Dataset\\RNN\\tweets_train.csv\")\n",
    "test=pd.read_csv(r\"C:\\Users\\vaish\\Downloads\\DL + AI Exam Paper (1)\\DL + AI Exam Paper\\Dataset\\RNN\\tweets_test.csv\")"
   ]
  },
  {
   "cell_type": "code",
   "execution_count": 34,
   "id": "23e06d17",
   "metadata": {},
   "outputs": [
    {
     "data": {
      "text/html": [
       "<div>\n",
       "<style scoped>\n",
       "    .dataframe tbody tr th:only-of-type {\n",
       "        vertical-align: middle;\n",
       "    }\n",
       "\n",
       "    .dataframe tbody tr th {\n",
       "        vertical-align: top;\n",
       "    }\n",
       "\n",
       "    .dataframe thead th {\n",
       "        text-align: right;\n",
       "    }\n",
       "</style>\n",
       "<table border=\"1\" class=\"dataframe\">\n",
       "  <thead>\n",
       "    <tr style=\"text-align: right;\">\n",
       "      <th></th>\n",
       "      <th>user_name</th>\n",
       "      <th>user_location</th>\n",
       "      <th>user_description</th>\n",
       "      <th>user_created</th>\n",
       "      <th>user_followers</th>\n",
       "      <th>user_friends</th>\n",
       "      <th>user_favourites</th>\n",
       "      <th>user_verified</th>\n",
       "      <th>date</th>\n",
       "      <th>hashtags</th>\n",
       "      <th>source</th>\n",
       "      <th>is_retweet</th>\n",
       "      <th>clean_text</th>\n",
       "      <th>Sentiment</th>\n",
       "    </tr>\n",
       "  </thead>\n",
       "  <tbody>\n",
       "    <tr>\n",
       "      <th>0</th>\n",
       "      <td>Romy 👑</td>\n",
       "      <td>Bolton - England</td>\n",
       "      <td>Tables turn, bridges burn, you live and learn.</td>\n",
       "      <td>2009-06-15 09:00:39</td>\n",
       "      <td>525</td>\n",
       "      <td>896</td>\n",
       "      <td>3854</td>\n",
       "      <td>False</td>\n",
       "      <td>2020-09-19 15:19:32</td>\n",
       "      <td>['TheSocialDilemma']</td>\n",
       "      <td>Twitter for Android</td>\n",
       "      <td>False</td>\n",
       "      <td>TheSocialDilemma is an eye opener isn t it ple...</td>\n",
       "      <td>Neutral</td>\n",
       "    </tr>\n",
       "    <tr>\n",
       "      <th>1</th>\n",
       "      <td>TLynn Peterson</td>\n",
       "      <td>Black Canyon City, Arizona</td>\n",
       "      <td>Acquired disability ♿ after an accident. Livin...</td>\n",
       "      <td>2013-05-29 00:17:46</td>\n",
       "      <td>5045</td>\n",
       "      <td>5374</td>\n",
       "      <td>48152</td>\n",
       "      <td>False</td>\n",
       "      <td>2020-09-13 00:31:46</td>\n",
       "      <td>['TheSocialDilemma']</td>\n",
       "      <td>Twitter for Android</td>\n",
       "      <td>False</td>\n",
       "      <td>TheSocialDilemma If we don t agree on what is ...</td>\n",
       "      <td>Positive</td>\n",
       "    </tr>\n",
       "    <tr>\n",
       "      <th>2</th>\n",
       "      <td>Rutger Kosters</td>\n",
       "      <td>Netherlands</td>\n",
       "      <td>Cloud Solution Architect @NetApp | VCDX #209 |...</td>\n",
       "      <td>2014-10-07 09:34:10</td>\n",
       "      <td>574</td>\n",
       "      <td>251</td>\n",
       "      <td>1070</td>\n",
       "      <td>False</td>\n",
       "      <td>2020-09-09 21:10:33</td>\n",
       "      <td>['TheSocialDilemma']</td>\n",
       "      <td>Twitter for Android</td>\n",
       "      <td>False</td>\n",
       "      <td>Watching TheSocialDilemma scary to see social ...</td>\n",
       "      <td>Negative</td>\n",
       "    </tr>\n",
       "    <tr>\n",
       "      <th>3</th>\n",
       "      <td>IDFWU🗯🇿🇼🇿🇦</td>\n",
       "      <td>East London, South Africa</td>\n",
       "      <td>YOU HAVE OPTIONS, YOU CAN’T JUST TAKE WHAT LIF...</td>\n",
       "      <td>2012-08-22 11:09:06</td>\n",
       "      <td>706</td>\n",
       "      <td>618</td>\n",
       "      <td>1320</td>\n",
       "      <td>False</td>\n",
       "      <td>2020-09-11 04:33:08</td>\n",
       "      <td>NaN</td>\n",
       "      <td>Twitter for Android</td>\n",
       "      <td>False</td>\n",
       "      <td>You check your social media before you pee in ...</td>\n",
       "      <td>Positive</td>\n",
       "    </tr>\n",
       "    <tr>\n",
       "      <th>4</th>\n",
       "      <td>Treebel</td>\n",
       "      <td>NaN</td>\n",
       "      <td>NaN</td>\n",
       "      <td>2010-09-25 07:25:31</td>\n",
       "      <td>9</td>\n",
       "      <td>13</td>\n",
       "      <td>55</td>\n",
       "      <td>False</td>\n",
       "      <td>2020-09-17 16:27:38</td>\n",
       "      <td>['thesocialdilemma']</td>\n",
       "      <td>Twitter for iPhone</td>\n",
       "      <td>False</td>\n",
       "      <td>watch thesocialdilemma and see what s actually...</td>\n",
       "      <td>Negative</td>\n",
       "    </tr>\n",
       "  </tbody>\n",
       "</table>\n",
       "</div>"
      ],
      "text/plain": [
       "        user_name               user_location  \\\n",
       "0          Romy 👑            Bolton - England   \n",
       "1  TLynn Peterson  Black Canyon City, Arizona   \n",
       "2  Rutger Kosters                 Netherlands   \n",
       "3      IDFWU🗯🇿🇼🇿🇦   East London, South Africa   \n",
       "4         Treebel                         NaN   \n",
       "\n",
       "                                    user_description         user_created  \\\n",
       "0     Tables turn, bridges burn, you live and learn.  2009-06-15 09:00:39   \n",
       "1  Acquired disability ♿ after an accident. Livin...  2013-05-29 00:17:46   \n",
       "2  Cloud Solution Architect @NetApp | VCDX #209 |...  2014-10-07 09:34:10   \n",
       "3  YOU HAVE OPTIONS, YOU CAN’T JUST TAKE WHAT LIF...  2012-08-22 11:09:06   \n",
       "4                                                NaN  2010-09-25 07:25:31   \n",
       "\n",
       "   user_followers  user_friends  user_favourites  user_verified  \\\n",
       "0             525           896             3854          False   \n",
       "1            5045          5374            48152          False   \n",
       "2             574           251             1070          False   \n",
       "3             706           618             1320          False   \n",
       "4               9            13               55          False   \n",
       "\n",
       "                  date              hashtags               source  is_retweet  \\\n",
       "0  2020-09-19 15:19:32  ['TheSocialDilemma']  Twitter for Android       False   \n",
       "1  2020-09-13 00:31:46  ['TheSocialDilemma']  Twitter for Android       False   \n",
       "2  2020-09-09 21:10:33  ['TheSocialDilemma']  Twitter for Android       False   \n",
       "3  2020-09-11 04:33:08                   NaN  Twitter for Android       False   \n",
       "4  2020-09-17 16:27:38  ['thesocialdilemma']   Twitter for iPhone       False   \n",
       "\n",
       "                                          clean_text Sentiment  \n",
       "0  TheSocialDilemma is an eye opener isn t it ple...   Neutral  \n",
       "1  TheSocialDilemma If we don t agree on what is ...  Positive  \n",
       "2  Watching TheSocialDilemma scary to see social ...  Negative  \n",
       "3  You check your social media before you pee in ...  Positive  \n",
       "4  watch thesocialdilemma and see what s actually...  Negative  "
      ]
     },
     "execution_count": 34,
     "metadata": {},
     "output_type": "execute_result"
    }
   ],
   "source": [
    "train.head()"
   ]
  },
  {
   "cell_type": "markdown",
   "id": "43b641dd",
   "metadata": {},
   "source": [
    "### Text Preprocessing"
   ]
  },
  {
   "cell_type": "code",
   "execution_count": 38,
   "id": "f2734369",
   "metadata": {},
   "outputs": [],
   "source": [
    "import pandas as pd\n",
    "import numpy as np\n",
    "from tensorflow.keras.preprocessing.text import Tokenizer\n",
    "from tensorflow.keras.preprocessing.sequence import pad_sequences\n",
    "\n",
    "# Check for NaN values in clean_text\n",
    "train['clean_text'].isnull().sum()\n",
    "\n",
    "# Replace NaN values with empty string\n",
    "train['clean_text'].fillna('', inplace=True)\n",
    "\n",
    "# Tokenizer initialization and fitting\n",
    "tokenizer = Tokenizer()\n",
    "tokenizer.fit_on_texts(train['clean_text'])\n",
    "\n",
    "# Convert text to sequences\n",
    "X_train = tokenizer.texts_to_sequences(train['clean_text'])\n",
    "\n",
    "# Padding sequences\n",
    "max_length = 256  # Adjust based on your maximum sequence length\n",
    "X_train = pad_sequences(X_train, maxlen=max_length)\n",
    "\n"
   ]
  },
  {
   "cell_type": "markdown",
   "id": "5b5b9604",
   "metadata": {},
   "source": [
    "### Encode Labels"
   ]
  },
  {
   "cell_type": "code",
   "execution_count": 40,
   "id": "84c89b29",
   "metadata": {},
   "outputs": [],
   "source": [
    "label_map = {'Negative': 0, 'Neutral': 1, 'Positive': 2}\n",
    "y_train = train['Sentiment'].map(label_map)"
   ]
  },
  {
   "cell_type": "markdown",
   "id": "1a8795c1",
   "metadata": {},
   "source": [
    "### Splitting the data using train_test_split"
   ]
  },
  {
   "cell_type": "code",
   "execution_count": 41,
   "id": "c7c3197a",
   "metadata": {},
   "outputs": [],
   "source": [
    "X_train, X_val, y_train, y_val = train_test_split(X_train, y_train, test_size=0.2, random_state=42)"
   ]
  },
  {
   "cell_type": "markdown",
   "id": "7282bb87",
   "metadata": {},
   "source": [
    "### Defining the model Parameters"
   ]
  },
  {
   "cell_type": "code",
   "execution_count": 43,
   "id": "0008ba0a",
   "metadata": {},
   "outputs": [],
   "source": [
    "vocab_size = len(tokenizer.word_index) + 1  # Adding 1 because of reserved 0 index\n",
    "embedding_dim = 100\n",
    "units = 64\n",
    "epochs = 10\n",
    "batch_size = 32"
   ]
  },
  {
   "cell_type": "markdown",
   "id": "3db4e360",
   "metadata": {},
   "source": [
    "### Model Architecture"
   ]
  },
  {
   "cell_type": "code",
   "execution_count": 44,
   "id": "00d9a9e7",
   "metadata": {},
   "outputs": [
    {
     "name": "stderr",
     "output_type": "stream",
     "text": [
      "C:\\Users\\vaish\\anaconda3\\Lib\\site-packages\\keras\\src\\layers\\core\\embedding.py:90: UserWarning: Argument `input_length` is deprecated. Just remove it.\n",
      "  warnings.warn(\n"
     ]
    }
   ],
   "source": [
    "model = tf.keras.Sequential([\n",
    "    tf.keras.layers.Embedding(input_dim=vocab_size, output_dim=embedding_dim, input_length=max_length),\n",
    "    tf.keras.layers.SimpleRNN(units=units),\n",
    "    tf.keras.layers.Dense(3, activation='softmax')\n",
    "])\n"
   ]
  },
  {
   "cell_type": "markdown",
   "id": "6b82f611",
   "metadata": {},
   "source": [
    "### Compiling the model"
   ]
  },
  {
   "cell_type": "code",
   "execution_count": 45,
   "id": "cb45bc87",
   "metadata": {},
   "outputs": [],
   "source": [
    "model.compile(optimizer='adam',\n",
    "              loss='sparse_categorical_crossentropy',\n",
    "              metrics=['accuracy'])"
   ]
  },
  {
   "cell_type": "code",
   "execution_count": 46,
   "id": "74f12d7b",
   "metadata": {},
   "outputs": [
    {
     "data": {
      "text/html": [
       "<pre style=\"white-space:pre;overflow-x:auto;line-height:normal;font-family:Menlo,'DejaVu Sans Mono',consolas,'Courier New',monospace\"><span style=\"font-weight: bold\">Model: \"sequential_1\"</span>\n",
       "</pre>\n"
      ],
      "text/plain": [
       "\u001b[1mModel: \"sequential_1\"\u001b[0m\n"
      ]
     },
     "metadata": {},
     "output_type": "display_data"
    },
    {
     "data": {
      "text/html": [
       "<pre style=\"white-space:pre;overflow-x:auto;line-height:normal;font-family:Menlo,'DejaVu Sans Mono',consolas,'Courier New',monospace\">┏━━━━━━━━━━━━━━━━━━━━━━━━━━━━━━━━━━━━━━┳━━━━━━━━━━━━━━━━━━━━━━━━━━━━━┳━━━━━━━━━━━━━━━━━┓\n",
       "┃<span style=\"font-weight: bold\"> Layer (type)                         </span>┃<span style=\"font-weight: bold\"> Output Shape                </span>┃<span style=\"font-weight: bold\">         Param # </span>┃\n",
       "┡━━━━━━━━━━━━━━━━━━━━━━━━━━━━━━━━━━━━━━╇━━━━━━━━━━━━━━━━━━━━━━━━━━━━━╇━━━━━━━━━━━━━━━━━┩\n",
       "│ embedding_1 (<span style=\"color: #0087ff; text-decoration-color: #0087ff\">Embedding</span>)              │ ?                           │     <span style=\"color: #00af00; text-decoration-color: #00af00\">0</span> (unbuilt) │\n",
       "├──────────────────────────────────────┼─────────────────────────────┼─────────────────┤\n",
       "│ simple_rnn_1 (<span style=\"color: #0087ff; text-decoration-color: #0087ff\">SimpleRNN</span>)             │ ?                           │     <span style=\"color: #00af00; text-decoration-color: #00af00\">0</span> (unbuilt) │\n",
       "├──────────────────────────────────────┼─────────────────────────────┼─────────────────┤\n",
       "│ dense_1 (<span style=\"color: #0087ff; text-decoration-color: #0087ff\">Dense</span>)                      │ ?                           │     <span style=\"color: #00af00; text-decoration-color: #00af00\">0</span> (unbuilt) │\n",
       "└──────────────────────────────────────┴─────────────────────────────┴─────────────────┘\n",
       "</pre>\n"
      ],
      "text/plain": [
       "┏━━━━━━━━━━━━━━━━━━━━━━━━━━━━━━━━━━━━━━┳━━━━━━━━━━━━━━━━━━━━━━━━━━━━━┳━━━━━━━━━━━━━━━━━┓\n",
       "┃\u001b[1m \u001b[0m\u001b[1mLayer (type)                        \u001b[0m\u001b[1m \u001b[0m┃\u001b[1m \u001b[0m\u001b[1mOutput Shape               \u001b[0m\u001b[1m \u001b[0m┃\u001b[1m \u001b[0m\u001b[1m        Param #\u001b[0m\u001b[1m \u001b[0m┃\n",
       "┡━━━━━━━━━━━━━━━━━━━━━━━━━━━━━━━━━━━━━━╇━━━━━━━━━━━━━━━━━━━━━━━━━━━━━╇━━━━━━━━━━━━━━━━━┩\n",
       "│ embedding_1 (\u001b[38;5;33mEmbedding\u001b[0m)              │ ?                           │     \u001b[38;5;34m0\u001b[0m (unbuilt) │\n",
       "├──────────────────────────────────────┼─────────────────────────────┼─────────────────┤\n",
       "│ simple_rnn_1 (\u001b[38;5;33mSimpleRNN\u001b[0m)             │ ?                           │     \u001b[38;5;34m0\u001b[0m (unbuilt) │\n",
       "├──────────────────────────────────────┼─────────────────────────────┼─────────────────┤\n",
       "│ dense_1 (\u001b[38;5;33mDense\u001b[0m)                      │ ?                           │     \u001b[38;5;34m0\u001b[0m (unbuilt) │\n",
       "└──────────────────────────────────────┴─────────────────────────────┴─────────────────┘\n"
      ]
     },
     "metadata": {},
     "output_type": "display_data"
    },
    {
     "data": {
      "text/html": [
       "<pre style=\"white-space:pre;overflow-x:auto;line-height:normal;font-family:Menlo,'DejaVu Sans Mono',consolas,'Courier New',monospace\"><span style=\"font-weight: bold\"> Total params: </span><span style=\"color: #00af00; text-decoration-color: #00af00\">0</span> (0.00 B)\n",
       "</pre>\n"
      ],
      "text/plain": [
       "\u001b[1m Total params: \u001b[0m\u001b[38;5;34m0\u001b[0m (0.00 B)\n"
      ]
     },
     "metadata": {},
     "output_type": "display_data"
    },
    {
     "data": {
      "text/html": [
       "<pre style=\"white-space:pre;overflow-x:auto;line-height:normal;font-family:Menlo,'DejaVu Sans Mono',consolas,'Courier New',monospace\"><span style=\"font-weight: bold\"> Trainable params: </span><span style=\"color: #00af00; text-decoration-color: #00af00\">0</span> (0.00 B)\n",
       "</pre>\n"
      ],
      "text/plain": [
       "\u001b[1m Trainable params: \u001b[0m\u001b[38;5;34m0\u001b[0m (0.00 B)\n"
      ]
     },
     "metadata": {},
     "output_type": "display_data"
    },
    {
     "data": {
      "text/html": [
       "<pre style=\"white-space:pre;overflow-x:auto;line-height:normal;font-family:Menlo,'DejaVu Sans Mono',consolas,'Courier New',monospace\"><span style=\"font-weight: bold\"> Non-trainable params: </span><span style=\"color: #00af00; text-decoration-color: #00af00\">0</span> (0.00 B)\n",
       "</pre>\n"
      ],
      "text/plain": [
       "\u001b[1m Non-trainable params: \u001b[0m\u001b[38;5;34m0\u001b[0m (0.00 B)\n"
      ]
     },
     "metadata": {},
     "output_type": "display_data"
    }
   ],
   "source": [
    "model.summary()\n"
   ]
  },
  {
   "cell_type": "markdown",
   "id": "f1d7f4c6",
   "metadata": {},
   "source": [
    "### Training the model"
   ]
  },
  {
   "cell_type": "code",
   "execution_count": 47,
   "id": "eda3f7a9",
   "metadata": {},
   "outputs": [
    {
     "name": "stdout",
     "output_type": "stream",
     "text": [
      "Epoch 1/10\n",
      "\u001b[1m425/425\u001b[0m \u001b[32m━━━━━━━━━━━━━━━━━━━━\u001b[0m\u001b[37m\u001b[0m \u001b[1m44s\u001b[0m 96ms/step - accuracy: 0.6171 - loss: 0.8551 - val_accuracy: 0.8300 - val_loss: 0.4688\n",
      "Epoch 2/10\n",
      "\u001b[1m425/425\u001b[0m \u001b[32m━━━━━━━━━━━━━━━━━━━━\u001b[0m\u001b[37m\u001b[0m \u001b[1m39s\u001b[0m 91ms/step - accuracy: 0.9070 - loss: 0.2752 - val_accuracy: 0.8724 - val_loss: 0.3920\n",
      "Epoch 3/10\n",
      "\u001b[1m425/425\u001b[0m \u001b[32m━━━━━━━━━━━━━━━━━━━━\u001b[0m\u001b[37m\u001b[0m \u001b[1m44s\u001b[0m 98ms/step - accuracy: 0.9675 - loss: 0.1103 - val_accuracy: 0.8776 - val_loss: 0.4047\n",
      "Epoch 4/10\n",
      "\u001b[1m425/425\u001b[0m \u001b[32m━━━━━━━━━━━━━━━━━━━━\u001b[0m\u001b[37m\u001b[0m \u001b[1m41s\u001b[0m 97ms/step - accuracy: 0.9884 - loss: 0.0407 - val_accuracy: 0.8829 - val_loss: 0.4403\n",
      "Epoch 5/10\n",
      "\u001b[1m425/425\u001b[0m \u001b[32m━━━━━━━━━━━━━━━━━━━━\u001b[0m\u001b[37m\u001b[0m \u001b[1m41s\u001b[0m 95ms/step - accuracy: 0.9954 - loss: 0.0196 - val_accuracy: 0.8853 - val_loss: 0.4790\n",
      "Epoch 6/10\n",
      "\u001b[1m425/425\u001b[0m \u001b[32m━━━━━━━━━━━━━━━━━━━━\u001b[0m\u001b[37m\u001b[0m \u001b[1m40s\u001b[0m 93ms/step - accuracy: 0.9993 - loss: 0.0064 - val_accuracy: 0.8638 - val_loss: 0.5627\n",
      "Epoch 7/10\n",
      "\u001b[1m425/425\u001b[0m \u001b[32m━━━━━━━━━━━━━━━━━━━━\u001b[0m\u001b[37m\u001b[0m \u001b[1m42s\u001b[0m 100ms/step - accuracy: 0.9956 - loss: 0.0189 - val_accuracy: 0.6032 - val_loss: 1.1397\n",
      "Epoch 8/10\n",
      "\u001b[1m425/425\u001b[0m \u001b[32m━━━━━━━━━━━━━━━━━━━━\u001b[0m\u001b[37m\u001b[0m \u001b[1m44s\u001b[0m 103ms/step - accuracy: 0.8302 - loss: 0.4237 - val_accuracy: 0.8665 - val_loss: 0.4602\n",
      "Epoch 9/10\n",
      "\u001b[1m425/425\u001b[0m \u001b[32m━━━━━━━━━━━━━━━━━━━━\u001b[0m\u001b[37m\u001b[0m \u001b[1m43s\u001b[0m 101ms/step - accuracy: 0.9735 - loss: 0.0812 - val_accuracy: 0.8785 - val_loss: 0.4481\n",
      "Epoch 10/10\n",
      "\u001b[1m425/425\u001b[0m \u001b[32m━━━━━━━━━━━━━━━━━━━━\u001b[0m\u001b[37m\u001b[0m \u001b[1m43s\u001b[0m 100ms/step - accuracy: 0.9891 - loss: 0.0404 - val_accuracy: 0.8779 - val_loss: 0.4727\n"
     ]
    }
   ],
   "source": [
    "history = model.fit(X_train, y_train,\n",
    "                    epochs=epochs,\n",
    "                    batch_size=batch_size,\n",
    "                    validation_data=(X_val, y_val))"
   ]
  },
  {
   "cell_type": "markdown",
   "id": "916a627f",
   "metadata": {},
   "source": [
    "### Evaluating the model"
   ]
  },
  {
   "cell_type": "code",
   "execution_count": 48,
   "id": "8937650b",
   "metadata": {},
   "outputs": [
    {
     "name": "stdout",
     "output_type": "stream",
     "text": [
      "\u001b[1m107/107\u001b[0m \u001b[32m━━━━━━━━━━━━━━━━━━━━\u001b[0m\u001b[37m\u001b[0m \u001b[1m2s\u001b[0m 15ms/step - accuracy: 0.8705 - loss: 0.4598\n",
      "Validation Accuracy: 0.8779\n"
     ]
    }
   ],
   "source": [
    "val_loss, val_accuracy = model.evaluate(X_val, y_val)\n",
    "print(f'Validation Accuracy: {val_accuracy:.4f}')\n"
   ]
  },
  {
   "cell_type": "markdown",
   "id": "af2091b7",
   "metadata": {},
   "source": [
    "### Applying preprocessing on test data and predicting the sentiments for test data"
   ]
  },
  {
   "cell_type": "code",
   "execution_count": 50,
   "id": "3e640658",
   "metadata": {},
   "outputs": [
    {
     "name": "stdout",
     "output_type": "stream",
     "text": [
      "\u001b[1m96/96\u001b[0m \u001b[32m━━━━━━━━━━━━━━━━━━━━\u001b[0m\u001b[37m\u001b[0m \u001b[1m2s\u001b[0m 20ms/step\n"
     ]
    }
   ],
   "source": [
    "# Assuming test is your DataFrame containing the test data\n",
    "\n",
    "# Check for NaN values in clean_text\n",
    "test['clean_text'].isnull().sum()\n",
    "\n",
    "# Replace NaN values with empty string\n",
    "test['clean_text'].fillna('', inplace=True)\n",
    "\n",
    "# Tokenize and pad sequences for test data\n",
    "X_test = tokenizer.texts_to_sequences(test['clean_text'])\n",
    "X_test = pad_sequences(X_test, maxlen=max_length)\n",
    "\n",
    "# Now X_test is ready for prediction\n",
    "predictions = model.predict(X_test)\n"
   ]
  },
  {
   "cell_type": "code",
   "execution_count": 62,
   "id": "84cd094e",
   "metadata": {},
   "outputs": [],
   "source": [
    "test['predictions'] = np.argmax(predictions, axis=1)  \n",
    "\n",
    "inverse_label_map = {0: 'Negative', 1: 'Neutral', 2: 'Positive'}\n",
    "test['predictions'] = np.argmax(predictions, axis=1)\n",
    "test['Predicted_results'] = test['predictions'].map(inverse_label_map)\n",
    "\n",
    "# Save updated test data with predictions\n",
    "test.to_csv('Test_data_with_predictions.csv', index=False)"
   ]
  },
  {
   "cell_type": "markdown",
   "id": "8a3df5df",
   "metadata": {},
   "source": [
    "#### Saving all the predictions on test data into a csv file"
   ]
  },
  {
   "cell_type": "code",
   "execution_count": 65,
   "id": "2fde851e",
   "metadata": {},
   "outputs": [],
   "source": [
    "Test_data_with_preditions=pd.read_csv(r\"C:\\Users\\vaish\\Downloads\\Test_data_with_predictions.csv\")"
   ]
  },
  {
   "cell_type": "code",
   "execution_count": 66,
   "id": "16134703",
   "metadata": {},
   "outputs": [
    {
     "data": {
      "text/html": [
       "<div>\n",
       "<style scoped>\n",
       "    .dataframe tbody tr th:only-of-type {\n",
       "        vertical-align: middle;\n",
       "    }\n",
       "\n",
       "    .dataframe tbody tr th {\n",
       "        vertical-align: top;\n",
       "    }\n",
       "\n",
       "    .dataframe thead th {\n",
       "        text-align: right;\n",
       "    }\n",
       "</style>\n",
       "<table border=\"1\" class=\"dataframe\">\n",
       "  <thead>\n",
       "    <tr style=\"text-align: right;\">\n",
       "      <th></th>\n",
       "      <th>user_name</th>\n",
       "      <th>user_location</th>\n",
       "      <th>user_description</th>\n",
       "      <th>user_created</th>\n",
       "      <th>user_followers</th>\n",
       "      <th>user_friends</th>\n",
       "      <th>user_favourites</th>\n",
       "      <th>user_verified</th>\n",
       "      <th>date</th>\n",
       "      <th>hashtags</th>\n",
       "      <th>source</th>\n",
       "      <th>is_retweet</th>\n",
       "      <th>clean_text</th>\n",
       "      <th>predictions</th>\n",
       "      <th>Predicted_results</th>\n",
       "    </tr>\n",
       "  </thead>\n",
       "  <tbody>\n",
       "    <tr>\n",
       "      <th>0</th>\n",
       "      <td>Doug Webb</td>\n",
       "      <td>Probably Europe</td>\n",
       "      <td>I develop methods for effective cooperation, w...</td>\n",
       "      <td>12-12-2015 15:22</td>\n",
       "      <td>157</td>\n",
       "      <td>228</td>\n",
       "      <td>496</td>\n",
       "      <td>False</td>\n",
       "      <td>15-09-2020 22:53</td>\n",
       "      <td>['theSocialDilemma', 'joinMastodon']</td>\n",
       "      <td>Twitter Web App</td>\n",
       "      <td>False</td>\n",
       "      <td>Watch theSocialDilemma then joinMastodon</td>\n",
       "      <td>1</td>\n",
       "      <td>Neutral</td>\n",
       "    </tr>\n",
       "    <tr>\n",
       "      <th>1</th>\n",
       "      <td>Dan Reynish</td>\n",
       "      <td>Medicine Hat, Alberta</td>\n",
       "      <td>News Anchor at Noon and 5 pm on CHAT TV. Canad...</td>\n",
       "      <td>10-09-2011 12:17</td>\n",
       "      <td>1722</td>\n",
       "      <td>2500</td>\n",
       "      <td>13912</td>\n",
       "      <td>False</td>\n",
       "      <td>12-09-2020 04:43</td>\n",
       "      <td>['WeTheNorth']</td>\n",
       "      <td>Twitter Web App</td>\n",
       "      <td>False</td>\n",
       "      <td>With the 2019 2020 NBA season officially over ...</td>\n",
       "      <td>1</td>\n",
       "      <td>Neutral</td>\n",
       "    </tr>\n",
       "    <tr>\n",
       "      <th>2</th>\n",
       "      <td>🌤</td>\n",
       "      <td>NaN</td>\n",
       "      <td>NaN</td>\n",
       "      <td>01-06-2011 02:23</td>\n",
       "      <td>880</td>\n",
       "      <td>585</td>\n",
       "      <td>205</td>\n",
       "      <td>False</td>\n",
       "      <td>19-09-2020 07:06</td>\n",
       "      <td>['TheSocialDilemma']</td>\n",
       "      <td>Twitter for iPhone</td>\n",
       "      <td>False</td>\n",
       "      <td>if you want to really know about people go tal...</td>\n",
       "      <td>2</td>\n",
       "      <td>Positive</td>\n",
       "    </tr>\n",
       "    <tr>\n",
       "      <th>3</th>\n",
       "      <td>“IT IS WHAT IT IS.”🇰🇪🇳🇿🇺🇸</td>\n",
       "      <td>WA</td>\n",
       "      <td>Heliophile🌞☀️• #Rugby • Wildlifer • #HIV • #So...</td>\n",
       "      <td>17-04-2009 13:35</td>\n",
       "      <td>1143</td>\n",
       "      <td>2692</td>\n",
       "      <td>11999</td>\n",
       "      <td>False</td>\n",
       "      <td>12-09-2020 18:28</td>\n",
       "      <td>['TheSocialDilemma', 'Netflix']</td>\n",
       "      <td>Twitter for iPhone</td>\n",
       "      <td>False</td>\n",
       "      <td>Have you watched TheSocialDilemma on Netflix</td>\n",
       "      <td>1</td>\n",
       "      <td>Neutral</td>\n",
       "    </tr>\n",
       "    <tr>\n",
       "      <th>4</th>\n",
       "      <td>Mahima Sood</td>\n",
       "      <td>NaN</td>\n",
       "      <td>Amy Dunne X Holly Golightly || Data Scientist ...</td>\n",
       "      <td>26-01-2018 21:57</td>\n",
       "      <td>18</td>\n",
       "      <td>65</td>\n",
       "      <td>263</td>\n",
       "      <td>False</td>\n",
       "      <td>12-09-2020 18:48</td>\n",
       "      <td>['TheSocialDilemma']</td>\n",
       "      <td>Twitter for iPhone</td>\n",
       "      <td>False</td>\n",
       "      <td>Highly recommend TheSocialDilemma on</td>\n",
       "      <td>2</td>\n",
       "      <td>Positive</td>\n",
       "    </tr>\n",
       "    <tr>\n",
       "      <th>...</th>\n",
       "      <td>...</td>\n",
       "      <td>...</td>\n",
       "      <td>...</td>\n",
       "      <td>...</td>\n",
       "      <td>...</td>\n",
       "      <td>...</td>\n",
       "      <td>...</td>\n",
       "      <td>...</td>\n",
       "      <td>...</td>\n",
       "      <td>...</td>\n",
       "      <td>...</td>\n",
       "      <td>...</td>\n",
       "      <td>...</td>\n",
       "      <td>...</td>\n",
       "      <td>...</td>\n",
       "    </tr>\n",
       "    <tr>\n",
       "      <th>3063</th>\n",
       "      <td>𝘔𝘶𝘳𝘪;🦋</td>\n",
       "      <td>𝘶𝘯𝘥𝘦𝘳 𝘵𝘩𝘦 𝘱𝘢𝘭𝘮𝘴🌴</td>\n",
       "      <td>𝘸𝘪𝘧𝘦 // 𝘤𝘢𝘵 𝘮𝘰𝘮 // 𝘱𝘴𝘺𝘤𝘩𝘰𝘭𝘰𝘨𝘪𝘴𝘵; 🧠 𝘣𝘦𝘢𝘤𝘩𝘣𝘶𝘮;🌴</td>\n",
       "      <td>29-07-2009 03:18</td>\n",
       "      <td>942</td>\n",
       "      <td>357</td>\n",
       "      <td>9917</td>\n",
       "      <td>False</td>\n",
       "      <td>14-09-2020 12:27</td>\n",
       "      <td>['TheSocialDilemma']</td>\n",
       "      <td>Twitter for iPhone</td>\n",
       "      <td>False</td>\n",
       "      <td>Everybody should watch TheSocialDilemma</td>\n",
       "      <td>1</td>\n",
       "      <td>Neutral</td>\n",
       "    </tr>\n",
       "    <tr>\n",
       "      <th>3064</th>\n",
       "      <td>Didi Crawford</td>\n",
       "      <td>Birmingham, England</td>\n",
       "      <td>Traveller | Blogger | Currently growing a huma...</td>\n",
       "      <td>06-12-2011 09:24</td>\n",
       "      <td>468</td>\n",
       "      <td>1095</td>\n",
       "      <td>3440</td>\n",
       "      <td>False</td>\n",
       "      <td>22-09-2020 19:25</td>\n",
       "      <td>['TheSocialDilemma']</td>\n",
       "      <td>Twitter for iPhone</td>\n",
       "      <td>False</td>\n",
       "      <td>Enjoyed TheSocialDilemma Then read this</td>\n",
       "      <td>2</td>\n",
       "      <td>Positive</td>\n",
       "    </tr>\n",
       "    <tr>\n",
       "      <th>3065</th>\n",
       "      <td>Ritwik Arora</td>\n",
       "      <td>NaN</td>\n",
       "      <td>Spent the last 30 minutes writing this bio, ch...</td>\n",
       "      <td>13-10-2020 01:12</td>\n",
       "      <td>10</td>\n",
       "      <td>137</td>\n",
       "      <td>106</td>\n",
       "      <td>False</td>\n",
       "      <td>13-10-2020 02:41</td>\n",
       "      <td>['TheSocialDilemma']</td>\n",
       "      <td>Twitter for Android</td>\n",
       "      <td>False</td>\n",
       "      <td>Couldn t stop thinking about docu TheSocialDil...</td>\n",
       "      <td>1</td>\n",
       "      <td>Neutral</td>\n",
       "    </tr>\n",
       "    <tr>\n",
       "      <th>3066</th>\n",
       "      <td>Nishant Mody</td>\n",
       "      <td>Mumbai</td>\n",
       "      <td>I love music, dogs, nature, politics &amp; marketi...</td>\n",
       "      <td>30-12-2012 04:58</td>\n",
       "      <td>174</td>\n",
       "      <td>541</td>\n",
       "      <td>5482</td>\n",
       "      <td>False</td>\n",
       "      <td>10-09-2020 17:19</td>\n",
       "      <td>['TheSocialDilemma']</td>\n",
       "      <td>Twitter for iPhone</td>\n",
       "      <td>False</td>\n",
       "      <td>This was the best one by on TheSocialDilemma on</td>\n",
       "      <td>2</td>\n",
       "      <td>Positive</td>\n",
       "    </tr>\n",
       "    <tr>\n",
       "      <th>3067</th>\n",
       "      <td>Quarantine James 🏁🇻🇨</td>\n",
       "      <td>Brooklyn!!!</td>\n",
       "      <td>Co-founder of Mokete Events &amp; photo booth rent...</td>\n",
       "      <td>19-05-2011 20:09</td>\n",
       "      <td>332</td>\n",
       "      <td>328</td>\n",
       "      <td>14642</td>\n",
       "      <td>False</td>\n",
       "      <td>12-09-2020 13:15</td>\n",
       "      <td>['TheSocialDilemma']</td>\n",
       "      <td>Twitter for Android</td>\n",
       "      <td>False</td>\n",
       "      <td>TheSocialDilemma on Netflix wow</td>\n",
       "      <td>2</td>\n",
       "      <td>Positive</td>\n",
       "    </tr>\n",
       "  </tbody>\n",
       "</table>\n",
       "<p>3068 rows × 15 columns</p>\n",
       "</div>"
      ],
      "text/plain": [
       "                      user_name          user_location  \\\n",
       "0                     Doug Webb        Probably Europe   \n",
       "1                   Dan Reynish  Medicine Hat, Alberta   \n",
       "2                             🌤                    NaN   \n",
       "3     “IT IS WHAT IT IS.”🇰🇪🇳🇿🇺🇸                     WA   \n",
       "4                   Mahima Sood                    NaN   \n",
       "...                         ...                    ...   \n",
       "3063                     𝘔𝘶𝘳𝘪;🦋       𝘶𝘯𝘥𝘦𝘳 𝘵𝘩𝘦 𝘱𝘢𝘭𝘮𝘴🌴   \n",
       "3064              Didi Crawford    Birmingham, England   \n",
       "3065               Ritwik Arora                    NaN   \n",
       "3066               Nishant Mody                 Mumbai   \n",
       "3067       Quarantine James 🏁🇻🇨            Brooklyn!!!   \n",
       "\n",
       "                                       user_description      user_created  \\\n",
       "0     I develop methods for effective cooperation, w...  12-12-2015 15:22   \n",
       "1     News Anchor at Noon and 5 pm on CHAT TV. Canad...  10-09-2011 12:17   \n",
       "2                                                   NaN  01-06-2011 02:23   \n",
       "3     Heliophile🌞☀️• #Rugby • Wildlifer • #HIV • #So...  17-04-2009 13:35   \n",
       "4     Amy Dunne X Holly Golightly || Data Scientist ...  26-01-2018 21:57   \n",
       "...                                                 ...               ...   \n",
       "3063      𝘸𝘪𝘧𝘦 // 𝘤𝘢𝘵 𝘮𝘰𝘮 // 𝘱𝘴𝘺𝘤𝘩𝘰𝘭𝘰𝘨𝘪𝘴𝘵; 🧠 𝘣𝘦𝘢𝘤𝘩𝘣𝘶𝘮;🌴  29-07-2009 03:18   \n",
       "3064  Traveller | Blogger | Currently growing a huma...  06-12-2011 09:24   \n",
       "3065  Spent the last 30 minutes writing this bio, ch...  13-10-2020 01:12   \n",
       "3066  I love music, dogs, nature, politics & marketi...  30-12-2012 04:58   \n",
       "3067  Co-founder of Mokete Events & photo booth rent...  19-05-2011 20:09   \n",
       "\n",
       "      user_followers  user_friends  user_favourites  user_verified  \\\n",
       "0                157           228              496          False   \n",
       "1               1722          2500            13912          False   \n",
       "2                880           585              205          False   \n",
       "3               1143          2692            11999          False   \n",
       "4                 18            65              263          False   \n",
       "...              ...           ...              ...            ...   \n",
       "3063             942           357             9917          False   \n",
       "3064             468          1095             3440          False   \n",
       "3065              10           137              106          False   \n",
       "3066             174           541             5482          False   \n",
       "3067             332           328            14642          False   \n",
       "\n",
       "                  date                              hashtags  \\\n",
       "0     15-09-2020 22:53  ['theSocialDilemma', 'joinMastodon']   \n",
       "1     12-09-2020 04:43                        ['WeTheNorth']   \n",
       "2     19-09-2020 07:06                  ['TheSocialDilemma']   \n",
       "3     12-09-2020 18:28       ['TheSocialDilemma', 'Netflix']   \n",
       "4     12-09-2020 18:48                  ['TheSocialDilemma']   \n",
       "...                ...                                   ...   \n",
       "3063  14-09-2020 12:27                  ['TheSocialDilemma']   \n",
       "3064  22-09-2020 19:25                  ['TheSocialDilemma']   \n",
       "3065  13-10-2020 02:41                  ['TheSocialDilemma']   \n",
       "3066  10-09-2020 17:19                  ['TheSocialDilemma']   \n",
       "3067  12-09-2020 13:15                  ['TheSocialDilemma']   \n",
       "\n",
       "                   source  is_retweet  \\\n",
       "0         Twitter Web App       False   \n",
       "1         Twitter Web App       False   \n",
       "2      Twitter for iPhone       False   \n",
       "3      Twitter for iPhone       False   \n",
       "4      Twitter for iPhone       False   \n",
       "...                   ...         ...   \n",
       "3063   Twitter for iPhone       False   \n",
       "3064   Twitter for iPhone       False   \n",
       "3065  Twitter for Android       False   \n",
       "3066   Twitter for iPhone       False   \n",
       "3067  Twitter for Android       False   \n",
       "\n",
       "                                             clean_text  predictions  \\\n",
       "0              Watch theSocialDilemma then joinMastodon            1   \n",
       "1     With the 2019 2020 NBA season officially over ...            1   \n",
       "2     if you want to really know about people go tal...            2   \n",
       "3          Have you watched TheSocialDilemma on Netflix            1   \n",
       "4                  Highly recommend TheSocialDilemma on            2   \n",
       "...                                                 ...          ...   \n",
       "3063            Everybody should watch TheSocialDilemma            1   \n",
       "3064            Enjoyed TheSocialDilemma Then read this            2   \n",
       "3065  Couldn t stop thinking about docu TheSocialDil...            1   \n",
       "3066    This was the best one by on TheSocialDilemma on            2   \n",
       "3067                    TheSocialDilemma on Netflix wow            2   \n",
       "\n",
       "     Predicted_results  \n",
       "0              Neutral  \n",
       "1              Neutral  \n",
       "2             Positive  \n",
       "3              Neutral  \n",
       "4             Positive  \n",
       "...                ...  \n",
       "3063           Neutral  \n",
       "3064          Positive  \n",
       "3065           Neutral  \n",
       "3066          Positive  \n",
       "3067          Positive  \n",
       "\n",
       "[3068 rows x 15 columns]"
      ]
     },
     "execution_count": 66,
     "metadata": {},
     "output_type": "execute_result"
    }
   ],
   "source": [
    "Test_data_with_preditions"
   ]
  },
  {
   "cell_type": "markdown",
   "id": "fa64f792",
   "metadata": {},
   "source": [
    "### Visualizing Accuracy and loss"
   ]
  },
  {
   "cell_type": "code",
   "execution_count": 69,
   "id": "bf6a207a",
   "metadata": {},
   "outputs": [
    {
     "data": {
      "image/png": "[encoded data removed]",
      "text/plain": [
       "<Figure size 1000x600 with 1 Axes>"
      ]
     },
     "metadata": {},
     "output_type": "display_data"
    },
    {
     "data": {
      "image/png": "[encoded data removed]",
      "text/plain": [
       "<Figure size 1000x600 with 1 Axes>"
      ]
     },
     "metadata": {},
     "output_type": "display_data"
    }
   ],
   "source": [
    "plt.figure(figsize=(10, 6))\n",
    "plt.plot(history.history['accuracy'], label='Training Accuracy')\n",
    "plt.plot(history.history['val_accuracy'], label='Validation Accuracy')\n",
    "plt.title('Training and Validation Accuracy')\n",
    "plt.xlabel('Epoch')\n",
    "plt.ylabel('Accuracy')\n",
    "plt.legend()\n",
    "plt.grid(True)\n",
    "plt.show()\n",
    "\n",
    "# Plot training history: loss\n",
    "plt.figure(figsize=(10, 6))\n",
    "plt.plot(history.history['loss'], label='Training Loss')\n",
    "plt.plot(history.history['val_loss'], label='Validation Loss')\n",
    "plt.title('Training and Validation Loss')\n",
    "plt.xlabel('Epoch')\n",
    "plt.ylabel('Loss')\n",
    "plt.legend()\n",
    "plt.grid(True)\n",
    "plt.show()"
   ]
  },
  {
   "cell_type": "code",
   "execution_count": null,
   "id": "8398d1bd",
   "metadata": {},
   "outputs": [],
   "source": []
  },
  {
   "cell_type": "code",
   "execution_count": null,
   "id": "8fa62533",
   "metadata": {},
   "outputs": [],
   "source": []
  },
  {
   "cell_type": "code",
   "execution_count": null,
   "id": "fc4d3779",
   "metadata": {},
   "outputs": [],
   "source": []
  }
 ],
 "metadata": {
  "kernelspec": {
   "display_name": "Python 3 (ipykernel)",
   "language": "python",
   "name": "python3"
  },
  "language_info": {
   "codemirror_mode": {
    "name": "ipython",
    "version": 3
   },
   "file_extension": ".py",
   "mimetype": "text/x-python",
   "name": "python",
   "nbconvert_exporter": "python",
   "pygments_lexer": "ipython3",
   "version": "3.11.5"
  }
 },
 "nbformat": 4,
 "nbformat_minor": 5
}
